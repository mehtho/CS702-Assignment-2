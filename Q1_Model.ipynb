{
 "cells": [
  {
   "cell_type": "markdown",
   "metadata": {},
   "source": [
    "For N anchors,\n",
    "\n",
    "Given $(x_i, y_i, r_i)$ for $i \\in {1...N}$ \n",
    "\n",
    "minimize $d$ subject to\n",
    "\n",
    "$d \\le \\epsilon$\n",
    "\n",
    "The distance should be greater or equal to the shortest distance to a path\n",
    "\n",
    "For $I$ vertical paths $p_x$ and $J$ horizontal paths $p_y$\n",
    "\n",
    "$d \\ge (x-p_{x,i})b_i \\quad \\forall i \\in I$\n",
    "\n",
    "$d \\ge (p_{x,i}-x)b_i \\quad \\forall i \\in I$\n",
    "\n",
    "$d \\ge (y-p_{y,j})b_j \\quad \\forall j \\in J$\n",
    "\n",
    "$d \\ge (p_{y,j}-y)b_j \\quad \\forall j \\in J$\n",
    "\n",
    "$\\sum_{i=1}^Ib_i + \\sum_{j=1}^Jb_j = 1$\n",
    "\n",
    "$b_i\\in{0,1} \\quad \\forall i \\in I$\n",
    "$b_j\\in{0,1} \\quad \\forall j \\in J$\n",
    "\n",
    "$d, \\epsilon, x, y \\ge 0$"
   ]
  },
  {
   "cell_type": "markdown",
   "metadata": {},
   "source": [
    "x and y should be in valid corridors, \n",
    "\n",
    "defined for $M$ vertical corridors $c_x$ by 2 $x$ coordinates $c_{x,m,s}$ and $c_{x,m,e} \\forall m \\in M$\n",
    "where $c_{x,m,s} < c_{x,m,e}$\n",
    "\n",
    "and for $N$ horizontal corridors $c_y$ by 2 $y$ coordinates $c_{y,n,s}$ and $c_{y,n,e} \\forall n \\in N$\n",
    "where $c_{y,n,s} < c_{y,n,e}$\n",
    "\n",
    "$x*b_m \\ge c_{x,m,s}*b_m$\n",
    "\n",
    "$x*b_m \\le c_{x,m,e}*b_m$\n",
    "\n",
    "$y*b_n \\ge c_{y,n,s}*b_n$\n",
    "\n",
    "$y*b_n \\le c_{y,n,e}*b_n$\n",
    "\n",
    "$1 \\ge \\sum^M_{m=0}b_m \\ge 0$\n",
    "\n",
    "$1 \\ge \\sum^N_{n=0}b_n \\ge 0$\n",
    "\n",
    "$2 \\ge \\sum^M_{m=0}b_m + \\sum^N_{n=0}b_m \\ge 1$"
   ]
  },
  {
   "cell_type": "markdown",
   "metadata": {},
   "source": [
    "The Euclidean distance from $(x, y)$ to $(x_i, y_i)$ should be less than $j_i$"
   ]
  },
  {
   "cell_type": "code",
   "execution_count": 15,
   "metadata": {},
   "outputs": [],
   "source": [
    "import pyomo.environ as pyo\n",
    "\n",
    "model = pyo.ConcreteModel()\n",
    "\n",
    "model.d = pyo.Var(domain=pyo.NonNegativeReals)\n",
    "model.error = pyo.Var(domain=pyo.NonNegativeReals)"
   ]
  },
  {
   "cell_type": "code",
   "execution_count": 16,
   "metadata": {},
   "outputs": [],
   "source": [
    "model.x = pyo.Var(domain=pyo.NonNegativeReals)\n",
    "model.y = pyo.Var(domain=pyo.NonNegativeReals)"
   ]
  },
  {
   "cell_type": "code",
   "execution_count": 17,
   "metadata": {},
   "outputs": [],
   "source": [
    "epsilon = 50\n",
    "\n",
    "hor_paths = [300]\n",
    "vert_paths = [1500, 2000]\n",
    "\n",
    "hor_corridors = [[200, 400]]\n",
    "vert_corridors = [[1400, 1600], [1900, 2100]]\n",
    "\n",
    "anchors = [[100, 200], [400, 400], [700, 200]]\n",
    "\n",
    "input_row = [599.1445733036148,317.70418909471636,86.14518674329827]"
   ]
  },
  {
   "cell_type": "code",
   "execution_count": 18,
   "metadata": {},
   "outputs": [],
   "source": [
    "model.epsilon_constraint = pyo.Constraint(expr=model.d <= epsilon)"
   ]
  },
  {
   "cell_type": "code",
   "execution_count": 19,
   "metadata": {},
   "outputs": [],
   "source": [
    "# First Part\n",
    "\n",
    "model.I = pyo.Var(list(range(1, len(vert_paths) + 1)), domain=pyo.Binary)\n",
    "model.vert_path_cons = pyo.ConstraintList()\n",
    "for i, vp in enumerate(vert_paths):\n",
    "    model.vert_path_cons.add(model.d >= (model.x - vp) * model.I[i+1])\n",
    "    model.vert_path_cons.add(model.d >= (vp - model.x) * model.I[i+1])"
   ]
  },
  {
   "cell_type": "code",
   "execution_count": 20,
   "metadata": {},
   "outputs": [],
   "source": [
    "model.J = pyo.Var(range(1, len(hor_paths) + 1), domain=pyo.Binary)\n",
    "model.hor_path_cons = pyo.ConstraintList()\n",
    "for j, hp in enumerate(hor_paths):\n",
    "    model.hor_path_cons.add(model.d >= (model.y - hp) * model.J[j+1])\n",
    "    model.hor_path_cons.add(model.d >= (hp - model.y) * model.J[j+1])"
   ]
  },
  {
   "cell_type": "code",
   "execution_count": 21,
   "metadata": {},
   "outputs": [],
   "source": [
    "def path_constraint(model):\n",
    "    return sum(model.I[i] for i in model.I) + sum(model.J[j] for j in model.J) == 1\n",
    "\n",
    "model.path_constraint = pyo.Constraint(rule=path_constraint)"
   ]
  },
  {
   "cell_type": "code",
   "execution_count": 22,
   "metadata": {},
   "outputs": [],
   "source": [
    "# Second Part\n",
    "\n",
    "model.N = pyo.Var(range(1, len(hor_corridors) + 1), domain=pyo.Binary)\n",
    "model.hor_corr_cons = pyo.ConstraintList()\n",
    "\n",
    "for n, hc in enumerate(hor_corridors):\n",
    "    model.hor_corr_cons.add(model.y * model.N[n+1] >= hc[0] * model.N[n+1])\n",
    "    model.hor_corr_cons.add(model.y * model.N[n+1] <= hc[1] * model.N[n+1])\n",
    "\n",
    "model.M = pyo.Var(range(1, len(vert_corridors) + 1), domain=pyo.Binary)\n",
    "model.vert_corr_cons = pyo.ConstraintList()\n",
    "\n",
    "for m, vc in enumerate(hor_corridors):\n",
    "    model.vert_corr_cons.add(model.x * model.M[m+1]>= vc[0] * model.M[m+1])\n",
    "    model.vert_corr_cons.add(model.x * model.M[m+1]<= vc[1] * model.M[m+1])\n"
   ]
  },
  {
   "cell_type": "code",
   "execution_count": 23,
   "metadata": {},
   "outputs": [
    {
     "data": {
      "text/plain": [
       "<pyomo.core.base.constraint._GeneralConstraintData at 0x10c36cc40>"
      ]
     },
     "execution_count": 23,
     "metadata": {},
     "output_type": "execute_result"
    }
   ],
   "source": [
    "model.hor_corr_cons.add(sum(model.N[n] for n in model.N) >= 0)\n",
    "model.hor_corr_cons.add(sum(model.N[n] for n in model.N) <= 1)\n",
    "\n",
    "model.vert_corr_cons.add(sum(model.M[m] for m in model.M) >= 0)\n",
    "model.vert_corr_cons.add(sum(model.M[m] for m in model.M) <= 1)"
   ]
  },
  {
   "cell_type": "code",
   "execution_count": 24,
   "metadata": {},
   "outputs": [
    {
     "data": {
      "text/plain": [
       "<pyomo.core.base.constraint._GeneralConstraintData at 0x10c36cb80>"
      ]
     },
     "execution_count": 24,
     "metadata": {},
     "output_type": "execute_result"
    }
   ],
   "source": [
    "model.corridor_constraints = pyo.ConstraintList()\n",
    "model.corridor_constraints.add(sum(model.M[m] for m in model.M) + sum(model.N[n] for n in model.N) >= 1)\n",
    "model.corridor_constraints.add(sum(model.M[m] for m in model.M) + sum(model.N[n] for n in model.N) <= 2)"
   ]
  },
  {
   "cell_type": "code",
   "execution_count": 25,
   "metadata": {},
   "outputs": [],
   "source": [
    "model.Err = pyo.Var(range(1, len(anchors) + 1), domain=pyo.NonNegativeReals)\n",
    "model.err_cons = pyo.ConstraintList()\n",
    "\n",
    "for a in range(1, len(anchors) + 1):\n",
    "    model.err_cons.add(model.Err[a] >= (model.x - anchors[a-1][0])**2 + (model.y - anchors[a-1][1])**2 - input_row[a-1]**2)\n",
    "    model.err_cons.add(model.Err[a] >= -1 * (model.x - anchors[a-1][0])**2 + (model.y - anchors[a-1][1])**2 - input_row[a-1]**2)\n",
    "\n",
    "model.error_constraint = pyo.Constraint(expr= sum(model.Err[a] for a in range(1, len(anchors) + 1)) <= model.error)\n",
    "\n",
    "model.obj = pyo.Objective(expr=model.error, sense=pyo.minimize)"
   ]
  },
  {
   "cell_type": "code",
   "execution_count": 26,
   "metadata": {},
   "outputs": [],
   "source": [
    "solver = pyo.SolverFactory('ipopt')\n",
    "solver.options['max_iter']= 200\n",
    "result = solver.solve(model)"
   ]
  },
  {
   "cell_type": "code",
   "execution_count": 27,
   "metadata": {},
   "outputs": [
    {
     "name": "stdout",
     "output_type": "stream",
     "text": [
      "Model unknown\n",
      "\n",
      "  Variables:\n",
      "    d : Size=1, Index=None\n",
      "        Key  : Lower : Value             : Upper : Fixed : Stale : Domain\n",
      "        None :     0 : 46.41599827000371 :  None : False : False : NonNegativeReals\n",
      "    error : Size=1, Index=None\n",
      "        Key  : Lower : Value                 : Upper : Fixed : Stale : Domain\n",
      "        None :     0 : -8.03964331090222e-09 :  None : False : False : NonNegativeReals\n",
      "    x : Size=1, Index=None\n",
      "        Key  : Lower : Value             : Upper : Fixed : Stale : Domain\n",
      "        None :     0 : 654.6222722842417 :  None : False : False : NonNegativeReals\n",
      "    y : Size=1, Index=None\n",
      "        Key  : Lower : Value             : Upper : Fixed : Stale : Domain\n",
      "        None :     0 : 262.0661873926171 :  None : False : False : NonNegativeReals\n",
      "    I : Size=2, Index=I_index\n",
      "        Key : Lower : Value               : Upper : Fixed : Stale : Domain\n",
      "          1 :     0 : 0.03698775557490858 :     1 : False : False : Binary\n",
      "          2 :     0 : 0.02212045957635005 :     1 : False : False : Binary\n",
      "    J : Size=1, Index=J_index\n",
      "        Key : Lower : Value              : Upper : Fixed : Stale : Domain\n",
      "          1 :     0 : 0.9408917848487415 :     1 : False : False : Binary\n",
      "    N : Size=1, Index=N_index\n",
      "        Key : Lower : Value              : Upper : Fixed : Stale : Domain\n",
      "          1 :     0 : 0.7217594368828569 :     1 : False : False : Binary\n",
      "    M : Size=2, Index=M_index\n",
      "        Key : Lower : Value                 : Upper : Fixed : Stale : Domain\n",
      "          1 :     0 : 8.685674257470082e-12 :     1 : False : False : Binary\n",
      "          2 :     0 :    0.5988908249542791 :     1 : False : False : Binary\n",
      "    Err : Size=3, Index=Err_index\n",
      "        Key : Lower : Value                   : Upper : Fixed : Stale : Domain\n",
      "          1 :     0 :  -2.009972756041583e-09 :  None : False : False : NonNegativeReals\n",
      "          2 :     0 : -2.0099595328023396e-09 :  None : False : False : NonNegativeReals\n",
      "          3 :     0 :  -2.009733143630387e-09 :  None : False : False : NonNegativeReals\n",
      "\n",
      "  Objectives:\n",
      "    obj : Size=1, Index=None, Active=True\n",
      "        Key  : Active : Value\n",
      "        None :   True : -8.03964331090222e-09\n",
      "\n",
      "  Constraints:\n",
      "    epsilon_constraint : Size=1\n",
      "        Key  : Lower : Body              : Upper\n",
      "        None :  None : 46.41599827000371 :  50.0\n",
      "    vert_path_cons : Size=4\n",
      "        Key : Lower : Body                : Upper\n",
      "          1 :  None :   -77.6846230312258 :   0.0\n",
      "          2 :  None : -15.147373508781623 :   0.0\n",
      "          3 :  None :  -76.17637191086183 :   0.0\n",
      "          4 :  None : -16.655624629145596 :   0.0\n",
      "    hor_path_cons : Size=2\n",
      "        Key : Lower : Body                : Upper\n",
      "          1 :  None :   -82.1076109202819 :   0.0\n",
      "          2 :  None : -10.724385619725531 :   0.0\n",
      "    path_constraint : Size=1\n",
      "        Key  : Lower : Body : Upper\n",
      "        None :   1.0 :  1.0 :   1.0\n",
      "    hor_corr_cons : Size=4\n",
      "        Key : Lower : Body               : Upper\n",
      "          1 :  None :  -44.7968564619612 :   0.0\n",
      "          2 :  None :  -99.5550309146102 :   0.0\n",
      "          3 :   0.0 : 0.7217594368828569 :  None\n",
      "          4 :  None : 0.7217594368828569 :   1.0\n",
      "    vert_corr_cons : Size=4\n",
      "        Key : Lower : Body                   : Upper\n",
      "          1 :  None : -3.948700967251793e-09 :   0.0\n",
      "          2 :  None : 2.2115661157577767e-09 :   0.0\n",
      "          3 :   0.0 :     0.5988908249629649 :  None\n",
      "          4 :  None :     0.5988908249629649 :   1.0\n",
      "    corridor_constraints : Size=2\n",
      "        Key : Lower : Body               : Upper\n",
      "          1 :   1.0 : 1.3206502618458218 :  None\n",
      "          2 :  None : 1.3206502618458218 :   2.0\n",
      "    err_cons : Size=6\n",
      "        Key : Lower : Body                : Upper\n",
      "          1 :  None : -47516.143187977694 :   0.0\n",
      "          2 :  None :  -662727.8730154488 :   0.0\n",
      "          3 :  None : -17077.713564730133 :   0.0\n",
      "          4 :  None : -146742.71665111117 :   0.0\n",
      "          5 :  None : -1509.6434089347615 :   0.0\n",
      "          6 :  None :  -5627.919754225756 :   0.0\n",
      "    error_constraint : Size=1\n",
      "        Key  : Lower : Body                   : Upper\n",
      "        None :  None : 2.0099778784279104e-09 :   0.0\n"
     ]
    }
   ],
   "source": [
    "model.display()"
   ]
  },
  {
   "cell_type": "code",
   "execution_count": 28,
   "metadata": {},
   "outputs": [
    {
     "name": "stdout",
     "output_type": "stream",
     "text": [
      "654.6222722842417\n",
      "262.0661873926171\n"
     ]
    }
   ],
   "source": [
    "print(pyo.value(model.x))\n",
    "print(pyo.value(model.y))"
   ]
  }
 ],
 "metadata": {
  "kernelspec": {
   "display_name": "base",
   "language": "python",
   "name": "python3"
  },
  "language_info": {
   "codemirror_mode": {
    "name": "ipython",
    "version": 3
   },
   "file_extension": ".py",
   "mimetype": "text/x-python",
   "name": "python",
   "nbconvert_exporter": "python",
   "pygments_lexer": "ipython3",
   "version": "3.11.4"
  }
 },
 "nbformat": 4,
 "nbformat_minor": 2
}
