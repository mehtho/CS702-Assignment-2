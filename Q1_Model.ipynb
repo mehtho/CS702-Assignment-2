{
 "cells": [
  {
   "cell_type": "markdown",
   "metadata": {},
   "source": [
    "For N anchors,\n",
    "\n",
    "Given $(x_i, y_i, r_i)$ for $i \\in {1...N}$ \n",
    "\n",
    "minimize $d$ subject to\n",
    "\n",
    "$d \\le \\epsilon$\n",
    "\n",
    "The distance should be greater or equal to the shortest distance to a path\n",
    "\n",
    "For $I$ vertical paths $p_x$ and $J$ horizontal paths $p_y$\n",
    "\n",
    "$d \\ge (x-p_{x,i})b_i \\quad \\forall i \\in I$\n",
    "\n",
    "$d \\ge (p_{x,i}-x)b_i \\quad \\forall i \\in I$\n",
    "\n",
    "$d \\ge (y-p_{y,j})b_j \\quad \\forall j \\in J$\n",
    "\n",
    "$d \\ge (p_{y,j}-y)b_j \\quad \\forall j \\in J$\n",
    "\n",
    "$\\sum_{i=1}^Ib_i + \\sum_{j=1}^Jb_j = 1$\n",
    "\n",
    "$b_i\\in{0,1} \\quad \\forall i \\in I$\n",
    "$b_j\\in{0,1} \\quad \\forall j \\in J$\n",
    "\n",
    "$d, \\epsilon, x, y \\ge 0$"
   ]
  },
  {
   "cell_type": "markdown",
   "metadata": {},
   "source": [
    "x and y should be in valid corridors, \n",
    "\n",
    "defined for $M$ vertical corridors $c_x$ by 2 $x$ coordinates $c_{x,m,s}$ and $c_{x,m,e} \\forall m \\in M$\n",
    "where $c_{x,m,s} < c_{x,m,e}$\n",
    "\n",
    "and for $N$ horizontal corridors $c_y$ by 2 $y$ coordinates $c_{y,n,s}$ and $c_{y,n,e} \\forall n \\in N$\n",
    "where $c_{y,n,s} < c_{y,n,e}$\n",
    "\n",
    "$x*b_m \\ge c_{x,m,s}*b_m$\n",
    "\n",
    "$x*b_m \\le c_{x,m,e}*b_m$\n",
    "\n",
    "$y*b_n \\ge c_{y,n,s}*b_n$\n",
    "\n",
    "$y*b_n \\le c_{y,n,e}*b_n$\n",
    "\n",
    "$1 \\ge \\sum^M_{m=0}b_m \\ge 0$\n",
    "\n",
    "$1 \\ge \\sum^N_{n=0}b_n \\ge 0$\n",
    "\n",
    "$2 \\ge \\sum^M_{m=0}b_m + \\sum^N_{n=0}b_m \\ge 1$"
   ]
  },
  {
   "cell_type": "markdown",
   "metadata": {},
   "source": [
    "The Euclidean distance from $(x, y)$ to $(x_i, y_i)$ should be less than $j_i$"
   ]
  },
  {
   "cell_type": "code",
   "execution_count": 27,
   "metadata": {},
   "outputs": [],
   "source": [
    "import pyomo.environ as pyo\n",
    "import math\n",
    "\n",
    "model = pyo.ConcreteModel()\n",
    "\n",
    "model.d = pyo.Var(domain=pyo.NonNegativeReals)\n",
    "\n",
    "model.obj = pyo.Objective(expr=model.d, sense=pyo.minimize)"
   ]
  },
  {
   "cell_type": "code",
   "execution_count": 28,
   "metadata": {},
   "outputs": [],
   "source": [
    "model.x = pyo.Var(domain=pyo.NonNegativeReals)\n",
    "model.y = pyo.Var(domain=pyo.NonNegativeReals)"
   ]
  },
  {
   "cell_type": "code",
   "execution_count": 29,
   "metadata": {},
   "outputs": [],
   "source": [
    "epsilon = 50\n",
    "\n",
    "hor_paths = [300]\n",
    "vert_paths = [1500, 2000]\n",
    "\n",
    "hor_corridors = [[200, 400]]\n",
    "vert_corridors = [[1400, 1600], [1900, 2100]]\n",
    "\n",
    "anchors = [[100, 200], [400, 400], [700, 200]]\n",
    "\n",
    "input_row = [600, 317, 85]"
   ]
  },
  {
   "cell_type": "code",
   "execution_count": 30,
   "metadata": {},
   "outputs": [],
   "source": [
    "model.epsilon_constraint = pyo.Constraint(expr=model.d <= epsilon)"
   ]
  },
  {
   "cell_type": "code",
   "execution_count": 31,
   "metadata": {},
   "outputs": [],
   "source": [
    "# First Part\n",
    "\n",
    "model.I = pyo.Var(list(range(1, len(vert_paths) + 1)), domain=pyo.Binary)\n",
    "model.vert_path_cons = pyo.ConstraintList()\n",
    "for i, vp in enumerate(vert_paths):\n",
    "    model.vert_path_cons.add(model.d >= (model.x - vp) * model.I[i+1])\n",
    "    model.vert_path_cons.add(model.d >= (vp - model.x) * model.I[i+1])"
   ]
  },
  {
   "cell_type": "code",
   "execution_count": 32,
   "metadata": {},
   "outputs": [],
   "source": [
    "model.J = pyo.Var(range(1, len(hor_paths) + 1), domain=pyo.Binary)\n",
    "model.hor_path_cons = pyo.ConstraintList()\n",
    "for j, hp in enumerate(hor_paths):\n",
    "    model.hor_path_cons.add(model.d >= (model.y - hp) * model.J[j+1])\n",
    "    model.hor_path_cons.add(model.d >= (hp - model.y) * model.J[j+1])"
   ]
  },
  {
   "cell_type": "code",
   "execution_count": 33,
   "metadata": {},
   "outputs": [],
   "source": [
    "def path_constraint(model):\n",
    "    return sum(model.I[i] for i in model.I) + sum(model.J[j] for j in model.J) == 1\n",
    "\n",
    "model.path_constraint = pyo.Constraint(rule=path_constraint)"
   ]
  },
  {
   "cell_type": "code",
   "execution_count": 34,
   "metadata": {},
   "outputs": [],
   "source": [
    "# Second Part\n",
    "\n",
    "model.N = pyo.Var(range(1, len(hor_corridors) + 1), domain=pyo.Binary)\n",
    "model.hor_corr_cons = pyo.ConstraintList()\n",
    "\n",
    "for n, hc in enumerate(hor_corridors):\n",
    "    model.hor_corr_cons.add(model.y * model.N[n+1] >= hc[0] * model.N[n+1])\n",
    "    model.hor_corr_cons.add(model.y * model.N[n+1] <= hc[1] * model.N[n+1])\n",
    "\n",
    "model.M = pyo.Var(range(1, len(vert_corridors) + 1), domain=pyo.Binary)\n",
    "model.vert_corr_cons = pyo.ConstraintList()\n",
    "\n",
    "for m, vc in enumerate(hor_corridors):\n",
    "    model.vert_corr_cons.add(model.x * model.M[m+1]>= vc[0] * model.M[m+1])\n",
    "    model.vert_corr_cons.add(model.x * model.M[m+1]<= vc[1] * model.M[m+1])\n"
   ]
  },
  {
   "cell_type": "code",
   "execution_count": 35,
   "metadata": {},
   "outputs": [
    {
     "data": {
      "text/plain": [
       "<pyomo.core.base.constraint._GeneralConstraintData at 0x10af15c60>"
      ]
     },
     "execution_count": 35,
     "metadata": {},
     "output_type": "execute_result"
    }
   ],
   "source": [
    "model.hor_corr_cons.add(sum(model.N[n] for n in model.N) >= 0)\n",
    "model.hor_corr_cons.add(sum(model.N[n] for n in model.N) <= 1)\n",
    "\n",
    "model.vert_corr_cons.add(sum(model.M[m] for m in model.M) >= 0)\n",
    "model.vert_corr_cons.add(sum(model.M[m] for m in model.M) <= 1)"
   ]
  },
  {
   "cell_type": "code",
   "execution_count": 36,
   "metadata": {},
   "outputs": [
    {
     "data": {
      "text/plain": [
       "<pyomo.core.base.constraint._GeneralConstraintData at 0x10af168c0>"
      ]
     },
     "execution_count": 36,
     "metadata": {},
     "output_type": "execute_result"
    }
   ],
   "source": [
    "model.corridor_constraints = pyo.ConstraintList()\n",
    "model.corridor_constraints.add(sum(model.M[m] for m in model.M) + sum(model.N[n] for n in model.N) >= 1)\n",
    "model.corridor_constraints.add(sum(model.M[m] for m in model.M) + sum(model.N[n] for n in model.N) <= 2)"
   ]
  },
  {
   "cell_type": "code",
   "execution_count": 37,
   "metadata": {},
   "outputs": [],
   "source": [
    "model.distance_constraints = pyo.ConstraintList()\n",
    "\n",
    "for a, anchor in enumerate(anchors):\n",
    "    model.distance_constraints.add(\n",
    "        (model.x - anchor[0])**2 + (model.y - anchor[1])**2\n",
    "     <= input_row[a]**2)"
   ]
  },
  {
   "cell_type": "code",
   "execution_count": 38,
   "metadata": {},
   "outputs": [],
   "source": [
    "solver = pyo.SolverFactory('ipopt')\n",
    "result = solver.solve(model)"
   ]
  },
  {
   "cell_type": "code",
   "execution_count": 40,
   "metadata": {},
   "outputs": [
    {
     "name": "stdout",
     "output_type": "stream",
     "text": [
      "Model unknown\n",
      "\n",
      "  Variables:\n",
      "    d : Size=1, Index=None\n",
      "        Key  : Lower : Value              : Upper : Fixed : Stale : Domain\n",
      "        None :     0 : 14.762889396431286 :  None : False : False : NonNegativeReals\n",
      "    x : Size=1, Index=None\n",
      "        Key  : Lower : Value             : Upper : Fixed : Stale : Domain\n",
      "        None :     0 : 693.9791666529536 :  None : False : False : NonNegativeReals\n",
      "    y : Size=1, Index=None\n",
      "        Key  : Lower : Value              : Upper : Fixed : Stale : Domain\n",
      "        None :     0 : 284.78649442924984 :  None : False : False : NonNegativeReals\n",
      "    I : Size=2, Index=I_index\n",
      "        Key : Lower : Value                : Upper : Fixed : Stale : Domain\n",
      "          1 :     0 : 0.018315766365877697 :     1 : False : False : Binary\n",
      "          2 :     0 : 0.011303716455202914 :     1 : False : False : Binary\n",
      "    J : Size=1, Index=J_index\n",
      "        Key : Lower : Value              : Upper : Fixed : Stale : Domain\n",
      "          1 :     0 : 0.9703805171789195 :     1 : False : False : Binary\n",
      "    N : Size=1, Index=N_index\n",
      "        Key : Lower : Value              : Upper : Fixed : Stale : Domain\n",
      "          1 :     0 : 0.7217580404174379 :     1 : False : False : Binary\n",
      "    M : Size=2, Index=M_index\n",
      "        Key : Lower : Value                 : Upper : Fixed : Stale : Domain\n",
      "          1 :     0 : 6.922899605547416e-12 :     1 : False : False : Binary\n",
      "          2 :     0 :    0.5988913804058982 :     1 : False : False : Binary\n",
      "\n",
      "  Objectives:\n",
      "    obj : Size=1, Index=None, Active=True\n",
      "        Key  : Active : Value\n",
      "        None :   True : 14.762889396431286\n",
      "\n",
      "  Constraints:\n",
      "    epsilon_constraint : Size=1\n",
      "        Key  : Lower : Body               : Upper\n",
      "        None :  None : 14.762889396431286 :  50.0\n",
      "    vert_path_cons : Size=4\n",
      "        Key : Lower : Body                    : Upper\n",
      "          1 :  None :      -29.52577866604583 :   0.0\n",
      "          2 :  None : -1.2681674022019251e-07 :   0.0\n",
      "          3 :  None :     -29.525778581174116 :   0.0\n",
      "          4 :  None : -2.1168845520946888e-07 :   0.0\n",
      "    hor_path_cons : Size=2\n",
      "        Key : Lower : Body                  : Upper\n",
      "          1 :  None :   -29.525778800280197 :   0.0\n",
      "          2 :  None : 7.417625624839275e-09 :   0.0\n",
      "    path_constraint : Size=1\n",
      "        Key  : Lower : Body : Upper\n",
      "        None :   1.0 :  1.0 :   1.0\n",
      "    hor_corr_cons : Size=4\n",
      "        Key : Lower : Body               : Upper\n",
      "          1 :  None : -61.19533407311937 :   0.0\n",
      "          2 :  None : -83.15627401036821 :   0.0\n",
      "          3 :   0.0 : 0.7217580404174379 :  None\n",
      "          4 :  None : 0.7217580404174379 :   1.0\n",
      "    vert_corr_cons : Size=4\n",
      "        Key : Lower : Body                   : Upper\n",
      "          1 :  None : -3.419768177970374e-09 :   0.0\n",
      "          2 :  None :  2.035188256860891e-09 :   0.0\n",
      "          3 :   0.0 :     0.5988913804128211 :  None\n",
      "          4 :  None :     0.5988913804128211 :   1.0\n",
      "    corridor_constraints : Size=2\n",
      "        Key : Lower : Body              : Upper\n",
      "          1 :   1.0 : 1.320649420830259 :  None\n",
      "          2 :  None : 1.320649420830259 :   2.0\n",
      "    distance_constraints : Size=3\n",
      "        Key : Lower : Body               : Upper\n",
      "          1 :  None : 360000.00005533843 : 360000.0\n",
      "          2 :  None :  99697.90229186635 : 100489.0\n",
      "          3 :  None :   7225.00007179412 :   7225.0\n",
      "693.9791666529536\n"
     ]
    }
   ],
   "source": [
    "model.display()"
   ]
  },
  {
   "cell_type": "code",
   "execution_count": 41,
   "metadata": {},
   "outputs": [
    {
     "name": "stdout",
     "output_type": "stream",
     "text": [
      "693.9791666529536\n",
      "284.78649442924984\n"
     ]
    }
   ],
   "source": [
    "print(pyo.value(model.x))\n",
    "print(pyo.value(model.y))"
   ]
  }
 ],
 "metadata": {
  "kernelspec": {
   "display_name": "base",
   "language": "python",
   "name": "python3"
  },
  "language_info": {
   "codemirror_mode": {
    "name": "ipython",
    "version": 3
   },
   "file_extension": ".py",
   "mimetype": "text/x-python",
   "name": "python",
   "nbconvert_exporter": "python",
   "pygments_lexer": "ipython3",
   "version": "3.11.4"
  }
 },
 "nbformat": 4,
 "nbformat_minor": 2
}
