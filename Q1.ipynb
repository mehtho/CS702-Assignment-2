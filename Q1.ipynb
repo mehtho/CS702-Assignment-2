{
 "cells": [
  {
   "cell_type": "markdown",
   "metadata": {},
   "source": [
    "For N anchors,\n",
    "\n",
    "Given $(x_i, y_i, r_i)$ for $i \\in {1...N}$ \n",
    "\n",
    "minimize $d$ subject to\n",
    "\n",
    "$d \\le \\epsilon$\n",
    "\n",
    "The distance should be greater or equal to the shortest distance to a path\n",
    "\n",
    "For $I$ vertical paths $p_x$ and $J$ horizontal paths $p_y$\n",
    "\n",
    "$(x-p_{x,i})b_i \\quad \\forall i \\in I$\n",
    "\n",
    "$(p_{x,i}-x)b_i \\quad \\forall i \\in I$\n",
    "\n",
    "$(y-p_{y,j})b_j \\quad \\forall j \\in J$\n",
    "\n",
    "$(p_{y,j}-y)b_j \\quad \\forall j \\in J$\n",
    "\n",
    "$\\sum_{i=1}^Ib_i + \\sum_{j=1}^Jb_j = 1$\n",
    "\n",
    "$b_i\\in{0,1} \\quad \\forall i \\in I$\n",
    "$b_j\\in{0,1} \\quad \\forall j \\in J$\n",
    "\n",
    "$d, \\epsilon, x, y \\ge 0$\n",
    "\n",
    "x and y should be in valid corridors, \n",
    "\n",
    "defined for M vertical corridors $c_x$ by 2 $x$ coordinates $c_{x,m,s}$ and $c_{x,m,e} \\forall m \\in M$\n",
    "where $c_{x,m,s} < c_{x,m,e}$\n",
    "\n",
    "and for horizontal corridors $c_y$ by 2 $y$ coordinates $c_{y,n,s}$ and $c_{y,n,e} \\forall n \\in N$\n",
    "where $c_{y,n,s} < c_{y,n,e}$\n",
    "\n",
    "$x \\ge c_{x,m,s}*b_m$\n",
    "\n",
    "$x \\le c_{x,m,e}*b_m$\n",
    "\n",
    "$y \\ge c_{y,n,s}*b_n$\n",
    "\n",
    "$y \\le c_{y,n,e}*b_n$\n",
    "\n",
    "$1 \\ge \\sum^M_{m=0}b_m \\ge 0$\n",
    "\n",
    "$1 \\ge \\sum^N_{n=0}b_n \\ge 0$\n",
    "\n",
    "$2 \\ge \\sum^M_{m=0}b_m + \\sum^N_{n=0}b_m \\ge 1$"
   ]
  }
 ],
 "metadata": {
  "language_info": {
   "name": "python"
  }
 },
 "nbformat": 4,
 "nbformat_minor": 2
}
