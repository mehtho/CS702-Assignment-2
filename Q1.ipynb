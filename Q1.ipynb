{
 "cells": [
  {
   "cell_type": "markdown",
   "metadata": {},
   "source": [
    "For N anchors,\n",
    "\n",
    "Given $(x_i, y_i, r_i)$ for $i \\in {1...N}$ \n",
    "\n",
    "minimize $d$ subject to\n",
    "\n",
    "$d \\le \\epsilon$\n",
    "\n",
    "The distance should be greater or equal to the shortest distance to a path\n",
    "\n",
    "For $I$ vertical paths $p_x$ and $J$ horizontal paths $p_y$\n",
    "\n",
    "$d \\ge (x-p_{x,i})b_i \\quad \\forall i \\in I$\n",
    "\n",
    "$d \\ge (p_{x,i}-x)b_i \\quad \\forall i \\in I$\n",
    "\n",
    "$d \\ge (y-p_{y,j})b_j \\quad \\forall j \\in J$\n",
    "\n",
    "$d \\ge (p_{y,j}-y)b_j \\quad \\forall j \\in J$\n",
    "\n",
    "$\\sum_{i=1}^Ib_i + \\sum_{j=1}^Jb_j = 1$\n",
    "\n",
    "$b_i\\in{0,1} \\quad \\forall i \\in I$\n",
    "$b_j\\in{0,1} \\quad \\forall j \\in J$\n",
    "\n",
    "$d, \\epsilon, x, y \\ge 0$"
   ]
  },
  {
   "cell_type": "markdown",
   "metadata": {},
   "source": [
    "x and y should be in valid corridors, \n",
    "\n",
    "defined for $M$ vertical corridors $c_x$ by 2 $x$ coordinates $c_{x,m,s}$ and $c_{x,m,e} \\forall m \\in M$\n",
    "where $c_{x,m,s} < c_{x,m,e}$\n",
    "\n",
    "and for $N$ horizontal corridors $c_y$ by 2 $y$ coordinates $c_{y,n,s}$ and $c_{y,n,e} \\forall n \\in N$\n",
    "where $c_{y,n,s} < c_{y,n,e}$\n",
    "\n",
    "$x*b_m \\ge c_{x,m,s}*b_m$\n",
    "\n",
    "$x*b_m \\le c_{x,m,e}*b_m$\n",
    "\n",
    "$y*b_n \\ge c_{y,n,s}*b_n$\n",
    "\n",
    "$y*b_n \\le c_{y,n,e}*b_n$\n",
    "\n",
    "$1 \\ge \\sum^M_{m=0}b_m \\ge 0$\n",
    "\n",
    "$1 \\ge \\sum^N_{n=0}b_n \\ge 0$\n",
    "\n",
    "$2 \\ge \\sum^M_{m=0}b_m + \\sum^N_{n=0}b_m \\ge 1$"
   ]
  },
  {
   "cell_type": "markdown",
   "metadata": {},
   "source": [
    "The Euclidean distance from $(x, y)$ to $(x_i, y_i)$ should be less than $j_i$"
   ]
  },
  {
   "cell_type": "code",
   "execution_count": 29,
   "metadata": {},
   "outputs": [],
   "source": [
    "import pyomo.environ as pyo\n",
    "import pandas as pd\n",
    "import matplotlib.pyplot as plt"
   ]
  },
  {
   "cell_type": "code",
   "execution_count": 30,
   "metadata": {},
   "outputs": [],
   "source": [
    "epsilon = 200\n",
    "\n",
    "hor_paths = [300]\n",
    "vert_paths = [1500, 2000]\n",
    "\n",
    "hor_corridors = [[200, 400]]\n",
    "vert_corridors = [[1400, 1600], [1900, 2100]]\n",
    "\n",
    "anchors = [[100, 200], [400, 400], [700, 200]]"
   ]
  },
  {
   "cell_type": "code",
   "execution_count": 31,
   "metadata": {},
   "outputs": [],
   "source": [
    "def find_pos(input_row):\n",
    "    model = pyo.ConcreteModel()\n",
    "\n",
    "    model.d = pyo.Var(domain=pyo.NonNegativeReals)\n",
    "\n",
    "    model.error = pyo.Var(domain=pyo.NonNegativeReals)\n",
    "\n",
    "    model.x = pyo.Var(domain=pyo.NonNegativeReals)\n",
    "    model.y = pyo.Var(domain=pyo.NonNegativeReals)\n",
    "\n",
    "    model.epsilon_constraint = pyo.Constraint(expr=model.d <= epsilon)\n",
    "\n",
    "    # First Part\n",
    "\n",
    "    model.I = pyo.Var(list(range(1, len(vert_paths) + 1)), domain=pyo.Binary)\n",
    "    model.vert_path_cons = pyo.ConstraintList()\n",
    "    for i, vp in enumerate(vert_paths):\n",
    "        model.vert_path_cons.add(model.d >= (model.x - vp) * model.I[i+1])\n",
    "        model.vert_path_cons.add(model.d >= (vp - model.x) * model.I[i+1])\n",
    "\n",
    "    model.J = pyo.Var(range(1, len(hor_paths) + 1), domain=pyo.Binary)\n",
    "    model.hor_path_cons = pyo.ConstraintList()\n",
    "    for j, hp in enumerate(hor_paths):\n",
    "        model.hor_path_cons.add(model.d >= (model.y - hp) * model.J[j+1])\n",
    "        model.hor_path_cons.add(model.d >= (hp - model.y) * model.J[j+1])\n",
    "\n",
    "    def path_constraint(model):\n",
    "        return sum(model.I[i] for i in model.I) + sum(model.J[j] for j in model.J) == 1\n",
    "\n",
    "    model.path_constraint = pyo.Constraint(rule=path_constraint)\n",
    "\n",
    "    # Second Part\n",
    "\n",
    "    model.N = pyo.Var(range(1, len(hor_corridors) + 1), domain=pyo.Binary)\n",
    "    model.hor_corr_cons = pyo.ConstraintList()\n",
    "\n",
    "    for n, hc in enumerate(hor_corridors):\n",
    "        model.hor_corr_cons.add(model.y * model.N[n+1] >= hc[0] * model.N[n+1])\n",
    "        model.hor_corr_cons.add(model.y * model.N[n+1] <= hc[1] * model.N[n+1])\n",
    "\n",
    "    model.M = pyo.Var(range(1, len(vert_corridors) + 1), domain=pyo.Binary)\n",
    "    model.vert_corr_cons = pyo.ConstraintList()\n",
    "\n",
    "    for m, vc in enumerate(hor_corridors):\n",
    "        model.vert_corr_cons.add(model.x * model.M[m+1]>= vc[0] * model.M[m+1])\n",
    "        model.vert_corr_cons.add(model.x * model.M[m+1]<= vc[1] * model.M[m+1])\n",
    "\n",
    "    model.hor_corr_cons.add(sum(model.N[n] for n in model.N) >= 0)\n",
    "    model.hor_corr_cons.add(sum(model.N[n] for n in model.N) <= 1)\n",
    "\n",
    "    model.vert_corr_cons.add(sum(model.M[m] for m in model.M) >= 0)\n",
    "    model.vert_corr_cons.add(sum(model.M[m] for m in model.M) <= 1)\n",
    "\n",
    "    model.corridor_constraints = pyo.ConstraintList()\n",
    "    model.corridor_constraints.add(sum(model.M[m] for m in model.M) + sum(model.N[n] for n in model.N) >= 1)\n",
    "    model.corridor_constraints.add(sum(model.M[m] for m in model.M) + sum(model.N[n] for n in model.N) <= 2)\n",
    "\n",
    "    model.distance_constraints = pyo.ConstraintList()\n",
    "\n",
    "    # Distance to Anchors (Minimise?)        \n",
    "\n",
    "    def combined_objective(model):\n",
    "        return abs((model.x - anchors[0][0])**2 + (model.y - anchors[0][1])**2- input_row[0]**2) + \\\n",
    "            abs((model.x - anchors[1][0])**2 + (model.y - anchors[1][1])**2- input_row[1]**2) + \\\n",
    "            abs((model.x - anchors[2][0])**2 + (model.y - anchors[2][1])**2- input_row[2]**2)\n",
    "\n",
    "    model.obj = pyo.Objective(rule=combined_objective, sense=pyo.minimize)\n",
    "\n",
    "    solver = pyo.SolverFactory('ipopt')\n",
    "    solver.solve(model)\n",
    "\n",
    "    return model.x.value, model.y.value"
   ]
  },
  {
   "cell_type": "code",
   "execution_count": 32,
   "metadata": {},
   "outputs": [
    {
     "name": "stdout",
     "output_type": "stream",
     "text": [
      "0\n",
      "WARNING: Loading a SolverResults object with a warning status into\n",
      "model.name=\"unknown\";\n",
      "    - termination condition: infeasible\n",
      "    - message from solver: Ipopt 3.14.14\\x3a Converged to a locally infeasible\n",
      "      point. Problem may be infeasible.\n",
      "1\n",
      "WARNING: Loading a SolverResults object with a warning status into\n",
      "model.name=\"unknown\";\n",
      "    - termination condition: maxIterations\n",
      "    - message from solver: Ipopt 3.14.14\\x3a Maximum Number of Iterations\n",
      "      Exceeded.\n",
      "2\n"
     ]
    },
    {
     "ename": "ValueError",
     "evalue": "Cannot load a SolverResults object with bad status: error",
     "output_type": "error",
     "traceback": [
      "\u001b[0;31m---------------------------------------------------------------------------\u001b[0m",
      "\u001b[0;31mValueError\u001b[0m                                Traceback (most recent call last)",
      "Cell \u001b[0;32mIn[32], line 8\u001b[0m\n\u001b[1;32m      6\u001b[0m inp \u001b[38;5;241m=\u001b[39m [row[\u001b[38;5;124m'\u001b[39m\u001b[38;5;124manchor_1\u001b[39m\u001b[38;5;124m'\u001b[39m], row[\u001b[38;5;124m'\u001b[39m\u001b[38;5;124manchor_2\u001b[39m\u001b[38;5;124m'\u001b[39m], row[\u001b[38;5;124m'\u001b[39m\u001b[38;5;124manchor_3\u001b[39m\u001b[38;5;124m'\u001b[39m]]\n\u001b[1;32m      7\u001b[0m \u001b[38;5;28mprint\u001b[39m(i)\n\u001b[0;32m----> 8\u001b[0m result_list\u001b[38;5;241m.\u001b[39mappend(find_pos(inp))\n",
      "Cell \u001b[0;32mIn[31], line 70\u001b[0m, in \u001b[0;36mfind_pos\u001b[0;34m(input_row)\u001b[0m\n\u001b[1;32m     67\u001b[0m model\u001b[38;5;241m.\u001b[39mobj \u001b[38;5;241m=\u001b[39m pyo\u001b[38;5;241m.\u001b[39mObjective(rule\u001b[38;5;241m=\u001b[39mcombined_objective, sense\u001b[38;5;241m=\u001b[39mpyo\u001b[38;5;241m.\u001b[39mminimize)\n\u001b[1;32m     69\u001b[0m solver \u001b[38;5;241m=\u001b[39m pyo\u001b[38;5;241m.\u001b[39mSolverFactory(\u001b[38;5;124m'\u001b[39m\u001b[38;5;124mipopt\u001b[39m\u001b[38;5;124m'\u001b[39m)\n\u001b[0;32m---> 70\u001b[0m solver\u001b[38;5;241m.\u001b[39msolve(model)\n\u001b[1;32m     72\u001b[0m \u001b[38;5;28;01mreturn\u001b[39;00m model\u001b[38;5;241m.\u001b[39mx\u001b[38;5;241m.\u001b[39mvalue, model\u001b[38;5;241m.\u001b[39my\u001b[38;5;241m.\u001b[39mvalue\n",
      "File \u001b[0;32m~/anaconda3/lib/python3.11/site-packages/pyomo/opt/base/solvers.py:661\u001b[0m, in \u001b[0;36mOptSolver.solve\u001b[0;34m(self, *args, **kwds)\u001b[0m\n\u001b[1;32m    659\u001b[0m \u001b[38;5;28;01melse\u001b[39;00m:\n\u001b[1;32m    660\u001b[0m     \u001b[38;5;28;01mif\u001b[39;00m \u001b[38;5;28mself\u001b[39m\u001b[38;5;241m.\u001b[39m_load_solutions:\n\u001b[0;32m--> 661\u001b[0m         _model\u001b[38;5;241m.\u001b[39msolutions\u001b[38;5;241m.\u001b[39mload_from(\n\u001b[1;32m    662\u001b[0m             result,\n\u001b[1;32m    663\u001b[0m             select\u001b[38;5;241m=\u001b[39m\u001b[38;5;28mself\u001b[39m\u001b[38;5;241m.\u001b[39m_select_index,\n\u001b[1;32m    664\u001b[0m             default_variable_value\u001b[38;5;241m=\u001b[39m\u001b[38;5;28mself\u001b[39m\u001b[38;5;241m.\u001b[39m_default_variable_value,\n\u001b[1;32m    665\u001b[0m         )\n\u001b[1;32m    666\u001b[0m         result\u001b[38;5;241m.\u001b[39m_smap_id \u001b[38;5;241m=\u001b[39m \u001b[38;5;28;01mNone\u001b[39;00m\n\u001b[1;32m    667\u001b[0m         result\u001b[38;5;241m.\u001b[39msolution\u001b[38;5;241m.\u001b[39mclear()\n",
      "File \u001b[0;32m~/anaconda3/lib/python3.11/site-packages/pyomo/core/base/PyomoModel.py:231\u001b[0m, in \u001b[0;36mModelSolutions.load_from\u001b[0;34m(self, results, allow_consistent_values_for_fixed_vars, comparison_tolerance_for_fixed_vars, ignore_invalid_labels, id, delete_symbol_map, clear, default_variable_value, select, ignore_fixed_vars)\u001b[0m\n\u001b[1;32m    226\u001b[0m         logger\u001b[38;5;241m.\u001b[39mwarning(\n\u001b[1;32m    227\u001b[0m             \u001b[38;5;124m\"\u001b[39m\u001b[38;5;124mLoading a SolverResults object with \u001b[39m\u001b[38;5;124m\"\u001b[39m\n\u001b[1;32m    228\u001b[0m             \u001b[38;5;124m\"\u001b[39m\u001b[38;5;124man \u001b[39m\u001b[38;5;124m'\u001b[39m\u001b[38;5;124maborted\u001b[39m\u001b[38;5;124m'\u001b[39m\u001b[38;5;124m status, but containing a solution\u001b[39m\u001b[38;5;124m\"\u001b[39m\n\u001b[1;32m    229\u001b[0m         )\n\u001b[1;32m    230\u001b[0m     \u001b[38;5;28;01melse\u001b[39;00m:\n\u001b[0;32m--> 231\u001b[0m         \u001b[38;5;28;01mraise\u001b[39;00m \u001b[38;5;167;01mValueError\u001b[39;00m(\n\u001b[1;32m    232\u001b[0m             \u001b[38;5;124m\"\u001b[39m\u001b[38;5;124mCannot load a SolverResults object \u001b[39m\u001b[38;5;124m\"\u001b[39m\n\u001b[1;32m    233\u001b[0m             \u001b[38;5;124m\"\u001b[39m\u001b[38;5;124mwith bad status: \u001b[39m\u001b[38;5;132;01m%s\u001b[39;00m\u001b[38;5;124m\"\u001b[39m \u001b[38;5;241m%\u001b[39m \u001b[38;5;28mstr\u001b[39m(results\u001b[38;5;241m.\u001b[39msolver\u001b[38;5;241m.\u001b[39mstatus)\n\u001b[1;32m    234\u001b[0m         )\n\u001b[1;32m    235\u001b[0m \u001b[38;5;28;01mif\u001b[39;00m clear:\n\u001b[1;32m    236\u001b[0m     \u001b[38;5;66;03m#\u001b[39;00m\n\u001b[1;32m    237\u001b[0m     \u001b[38;5;66;03m# Clear the solutions, but not the symbol map\u001b[39;00m\n\u001b[1;32m    238\u001b[0m     \u001b[38;5;66;03m#\u001b[39;00m\n\u001b[1;32m    239\u001b[0m     \u001b[38;5;28mself\u001b[39m\u001b[38;5;241m.\u001b[39mclear(clear_symbol_maps\u001b[38;5;241m=\u001b[39m\u001b[38;5;28;01mFalse\u001b[39;00m)\n",
      "\u001b[0;31mValueError\u001b[0m: Cannot load a SolverResults object with bad status: error"
     ]
    }
   ],
   "source": [
    "distances = pd.read_csv(\"distances.csv\")\n",
    "\n",
    "result_list = []\n",
    "\n",
    "for i, row in distances.iterrows():\n",
    "    inp = [row['anchor_1'], row['anchor_2'], row['anchor_3']]\n",
    "    print(i)\n",
    "    result_list.append(find_pos(inp))"
   ]
  },
  {
   "cell_type": "code",
   "execution_count": null,
   "metadata": {},
   "outputs": [],
   "source": [
    "df = pd.DataFrame(result_list, columns=['x', 'y'])"
   ]
  },
  {
   "cell_type": "code",
   "execution_count": null,
   "metadata": {},
   "outputs": [
    {
     "data": {
      "text/plain": [
       "(200.0, 400.0)"
      ]
     },
     "execution_count": 24,
     "metadata": {},
     "output_type": "execute_result"
    },
    {
     "data": {
      "image/png": "[encoded data removed]",
      "text/plain": [
       "<Figure size 640x480 with 1 Axes>"
      ]
     },
     "metadata": {},
     "output_type": "display_data"
    }
   ],
   "source": [
    "plt.plot(df['x'], df['y'])\n",
    "plt.xlim(0, 800)\n",
    "plt.ylim(200, 400)\n"
   ]
  }
 ],
 "metadata": {
  "kernelspec": {
   "display_name": "base",
   "language": "python",
   "name": "python3"
  },
  "language_info": {
   "codemirror_mode": {
    "name": "ipython",
    "version": 3
   },
   "file_extension": ".py",
   "mimetype": "text/x-python",
   "name": "python",
   "nbconvert_exporter": "python",
   "pygments_lexer": "ipython3",
   "version": "3.11.4"
  }
 },
 "nbformat": 4,
 "nbformat_minor": 2
}
